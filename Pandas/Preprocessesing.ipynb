{
 "cells": [
  {
   "cell_type": "markdown",
   "metadata": {},
   "source": [
    "---\n",
    "\n",
    "_You are currently looking at **version 1.5** of this notebook. To download notebooks and datafiles, as well as get help on Jupyter notebooks in the Coursera platform, visit the [Jupyter Notebook FAQ](https://www.coursera.org/learn/python-data-analysis/resources/0dhYG) course resource._\n",
    "\n",
    "---"
   ]
  },
  {
   "cell_type": "markdown",
   "metadata": {},
   "source": [
    "# Assignment 3 - More Pandas\n",
    "This assignment requires more individual learning then the last one did - you are encouraged to check out the [pandas documentation](http://pandas.pydata.org/pandas-docs/stable/) to find functions or methods you might not have used yet, or ask questions on [Stack Overflow](http://stackoverflow.com/) and tag them as pandas and python related. And of course, the discussion forums are open for interaction with your peers and the course staff."
   ]
  },
  {
   "cell_type": "markdown",
   "metadata": {},
   "source": [
    "### Question 1 (20%)\n",
    "Load the energy data from the file `Energy Indicators.xls`, which is a list of indicators of [energy supply and renewable electricity production](Energy%20Indicators.xls) from the [United Nations](http://unstats.un.org/unsd/environment/excel_file_tables/2013/Energy%20Indicators.xls) for the year 2013, and should be put into a DataFrame with the variable name of **energy**.\n",
    "\n",
    "Keep in mind that this is an Excel file, and not a comma separated values file. Also, make sure to exclude the footer and header information from the datafile. The first two columns are unneccessary, so you should get rid of them, and you should change the column labels so that the columns are:\n",
    "\n",
    "`['Country', 'Energy Supply', 'Energy Supply per Capita', '% Renewable']`\n",
    "\n",
    "Convert `Energy Supply` to gigajoules (there are 1,000,000 gigajoules in a petajoule). For all countries which have missing data (e.g. data with \"...\") make sure this is reflected as `np.NaN` values.\n",
    "\n",
    "Rename the following list of countries (for use in later questions):\n",
    "\n",
    "```\"Republic of Korea\": \"South Korea\",\n",
    "\"United States of America\": \"United States\",\n",
    "\"United Kingdom of Great Britain and Northern Ireland\": \"United Kingdom\",\n",
    "\"China, Hong Kong Special Administrative Region\": \"Hong Kong\"```\n",
    "\n",
    "There are also several countries with numbers and/or parenthesis in their name. Be sure to remove these, \n",
    "\n",
    "e.g. \n",
    "\n",
    "`'Bolivia (Plurinational State of)'` should be `'Bolivia'`, \n",
    "\n",
    "`'Switzerland17'` should be `'Switzerland'`.\n",
    "\n",
    "<br>\n",
    "\n",
    "Next, load the GDP data from the file `world_bank.csv`, which is a csv containing countries' GDP from 1960 to 2015 from [World Bank](http://data.worldbank.org/indicator/NY.GDP.MKTP.CD). Call this DataFrame **GDP**. \n",
    "\n",
    "Make sure to skip the header, and rename the following list of countries:\n",
    "\n",
    "```\"Korea, Rep.\": \"South Korea\", \n",
    "\"Iran, Islamic Rep.\": \"Iran\",\n",
    "\"Hong Kong SAR, China\": \"Hong Kong\"```\n",
    "\n",
    "<br>\n",
    "\n",
    "Finally, load the [Sciamgo Journal and Country Rank data for Energy Engineering and Power Technology](http://www.scimagojr.com/countryrank.php?category=2102) from the file `scimagojr-3.xlsx`, which ranks countries based on their journal contributions in the aforementioned area. Call this DataFrame **ScimEn**.\n",
    "\n",
    "Join the three datasets: GDP, Energy, and ScimEn into a new dataset (using the intersection of country names). Use only the last 10 years (2006-2015) of GDP data and only the top 15 countries by Scimagojr 'Rank' (Rank 1 through 15). \n",
    "\n",
    "The index of this DataFrame should be the name of the country, and the columns should be ['Rank', 'Documents', 'Citable documents', 'Citations', 'Self-citations',\n",
    "       'Citations per document', 'H index', 'Energy Supply',\n",
    "       'Energy Supply per Capita', '% Renewable', '2006', '2007', '2008',\n",
    "       '2009', '2010', '2011', '2012', '2013', '2014', '2015'].\n",
    "\n",
    "*This function should return a DataFrame with 20 columns and 15 entries.*"
   ]
  },
  {
   "cell_type": "code",
   "execution_count": 110,
   "metadata": {
    "collapsed": true
   },
   "outputs": [],
   "source": [
    "import pandas as pd \n",
    "import numpy as np\n",
    "from string import digits\n",
    "import re"
   ]
  },
  {
   "cell_type": "code",
   "execution_count": 111,
   "metadata": {
    "collapsed": true,
    "umich_part_id": "009",
    "umich_partlist_id": "003"
   },
   "outputs": [],
   "source": [
    "def answer_one():\n",
    "    energy=pd.read_excel(\"Energy Indicators.xls\")\n",
    "    energy.drop([energy.columns[0],energy.columns[1]],axis=1,inplace=True)\n",
    "    energy.drop(energy.index[0:16],inplace=True)\n",
    "    energy.drop(energy.index[227:],inplace=True)\n",
    "    energy.columns=['Country', 'Energy Supply', 'Energy Supply per Capita', '% Renewable']\n",
    "    energy.set_index('Country', inplace=True)\n",
    "    energy.replace('...',np.nan,inplace=True)\n",
    "\n",
    "    d={'Republic of Korea':'South Korea',\"United States of America20\": \"United States\",\n",
    "    \"United Kingdom of Great Britain and Northern Ireland19\": \"United Kingdom\",\n",
    "    \"China, Hong Kong Special Administrative Region\": \"Hong Kong\"}\n",
    "    energy.rename(index=d,inplace=True)\n",
    "    energy.reset_index(inplace=True)\n",
    "    remove_digits = str.maketrans('', '', digits)\n",
    "\n",
    "\n",
    "    for i in energy.index:\n",
    "        energy.loc[i,\"Country\"] = energy.loc[i,\"Country\"].translate(remove_digits)\n",
    "        start = energy.loc[i,\"Country\"].find( '(' )\n",
    "        end = energy.loc[i,\"Country\"].find( ')' )\n",
    "        if start != -1 and end != -1:\n",
    "              energy.loc[i,\"Country\"] = energy.loc[i,\"Country\"][:(start-1)]\n",
    "\n",
    "    energy[\"Energy Supply\"]= energy[\"Energy Supply\"]*1000000\n",
    "            \n",
    "\n",
    "    GDP= pd.read_csv(\"world_bank.csv\",header=0)\n",
    "    GDP.drop(GDP.index[:4],inplace=True)\n",
    "    g={\"Korea, Rep.\": \"South Korea\", \n",
    "    \"Iran, Islamic Rep.\": \"Iran\",\n",
    "    \"Hong Kong SAR, China\": \"Hong Kong\"}\n",
    "\n",
    "    ScimEn=pd.read_excel(\"scimagojr-3.xlsx\")\n",
    "    #ScimEn.drop(ScimEn.index[15:],inplace=True)\n",
    "    e={\"Data Source\":\"Country\",\"Unnamed: 59\":'2015',\"Unnamed: 58\":'2014',\"Unnamed: 57\":'2013',\"Unnamed: 56\":'2012',\"Unnamed: 55\":'2011',\"Unnamed: 54\":'2010',\"Unnamed: 53\":'2009',\"Unnamed: 52\":'2008',\"Unnamed: 51\":'2007',\"Unnamed: 50\":'2006'}\n",
    "    GDP.drop(GDP.columns[1:50],axis=1,inplace=True)\n",
    "    GDP.rename(columns=e,inplace=True)\n",
    "    GDP.set_index(\"Country\",inplace=True)\n",
    "    GDP.rename(index=g,inplace=True)\n",
    "    GDP.reset_index(inplace=True)\n",
    "    pd.set_option('display.max_rows', None)\n",
    "    new=pd.merge(ScimEn,energy,on='Country')\n",
    "    new_1=pd.merge(new,GDP,on=\"Country\")\n",
    "    new_2=new_1.copy()\n",
    "    new_2=new_2.drop(new_2.index[15:])\n",
    "    new_2=new_2.set_index(\"Country\")\n",
    "    inner = pd.merge(pd.merge(ScimEn,energy ,on='Country',how='inner'),GDP,on='Country',how='inner')\n",
    "    outer = pd.merge(pd.merge(ScimEn,energy,on='Country',how='outer'),GDP,on='Country',how='outer')\n",
    "    return new_2\n",
    "\n"
   ]
  },
  {
   "cell_type": "markdown",
   "metadata": {},
   "source": [
    "### Question 2 (6.6%)\n",
    "The previous question joined three datasets then reduced this to just the top 15 entries. When you joined the datasets, but before you reduced this to the top 15 items, how many entries did you lose?\n",
    "\n",
    "*This function should return a single number.*"
   ]
  },
  {
   "cell_type": "code",
   "execution_count": 112,
   "metadata": {},
   "outputs": [
    {
     "data": {
      "text/html": [
       "<svg width=\"800\" height=\"300\">\n",
       "  <circle cx=\"150\" cy=\"180\" r=\"80\" fill-opacity=\"0.2\" stroke=\"black\" stroke-width=\"2\" fill=\"blue\" />\n",
       "  <circle cx=\"200\" cy=\"100\" r=\"80\" fill-opacity=\"0.2\" stroke=\"black\" stroke-width=\"2\" fill=\"red\" />\n",
       "  <circle cx=\"100\" cy=\"100\" r=\"80\" fill-opacity=\"0.2\" stroke=\"black\" stroke-width=\"2\" fill=\"green\" />\n",
       "  <line x1=\"150\" y1=\"125\" x2=\"300\" y2=\"150\" stroke=\"black\" stroke-width=\"2\" fill=\"black\" stroke-dasharray=\"5,3\"/>\n",
       "  <text  x=\"300\" y=\"165\" font-family=\"Verdana\" font-size=\"35\">Everything but this!</text>\n",
       "</svg>"
      ],
      "text/plain": [
       "<IPython.core.display.HTML object>"
      ]
     },
     "metadata": {},
     "output_type": "display_data"
    }
   ],
   "source": [
    "%%HTML\n",
    "<svg width=\"800\" height=\"300\">\n",
    "  <circle cx=\"150\" cy=\"180\" r=\"80\" fill-opacity=\"0.2\" stroke=\"black\" stroke-width=\"2\" fill=\"blue\" />\n",
    "  <circle cx=\"200\" cy=\"100\" r=\"80\" fill-opacity=\"0.2\" stroke=\"black\" stroke-width=\"2\" fill=\"red\" />\n",
    "  <circle cx=\"100\" cy=\"100\" r=\"80\" fill-opacity=\"0.2\" stroke=\"black\" stroke-width=\"2\" fill=\"green\" />\n",
    "  <line x1=\"150\" y1=\"125\" x2=\"300\" y2=\"150\" stroke=\"black\" stroke-width=\"2\" fill=\"black\" stroke-dasharray=\"5,3\"/>\n",
    "  <text  x=\"300\" y=\"165\" font-family=\"Verdana\" font-size=\"35\">Everything but this!</text>\n",
    "</svg>"
   ]
  },
  {
   "cell_type": "code",
   "execution_count": 113,
   "metadata": {
    "collapsed": true,
    "umich_part_id": "010",
    "umich_partlist_id": "003"
   },
   "outputs": [],
   "source": [
    "def answer_two():\n",
    "    energy=pd.read_excel(\"Energy Indicators.xls\")\n",
    "    energy.drop([energy.columns[0],energy.columns[1]],axis=1,inplace=True)\n",
    "    energy.drop(energy.index[0:16],inplace=True)\n",
    "    energy.drop(energy.index[227:],inplace=True)\n",
    "    energy.columns=['Country', 'Energy Supply', 'Energy Supply per Capita', '% Renewable']\n",
    "    energy.set_index('Country', inplace=True)\n",
    "    energy.replace('...',np.nan,inplace=True)\n",
    "\n",
    "    d={'Republic of Korea':'South Korea',\"United States of America20\": \"United States\",\n",
    "    \"United Kingdom of Great Britain and Northern Ireland19\": \"United Kingdom\",\n",
    "    \"China, Hong Kong Special Administrative Region\": \"Hong Kong\"}\n",
    "    energy.rename(index=d,inplace=True)\n",
    "    energy.reset_index(inplace=True)\n",
    "    remove_digits = str.maketrans('', '', digits)\n",
    "\n",
    "\n",
    "    for i in energy.index:\n",
    "        energy.loc[i,\"Country\"] = energy.loc[i,\"Country\"].translate(remove_digits)\n",
    "        start = energy.loc[i,\"Country\"].find( '(' )\n",
    "        end = energy.loc[i,\"Country\"].find( ')' )\n",
    "        if start != -1 and end != -1:\n",
    "              energy.loc[i,\"Country\"] = energy.loc[i,\"Country\"][:(start-1)]\n",
    "\n",
    "    energy[\"Energy Supply\"]= energy[\"Energy Supply\"]*1000000\n",
    "    GDP= pd.read_csv(\"world_bank.csv\",header=0)\n",
    "    GDP.drop(GDP.index[:4],inplace=True)\n",
    "    g={\"Korea, Rep.\": \"South Korea\", \n",
    "    \"Iran, Islamic Rep.\": \"Iran\",\n",
    "    \"Hong Kong SAR, China\": \"Hong Kong\"}\n",
    "\n",
    "    ScimEn=pd.read_excel(\"scimagojr-3.xlsx\")\n",
    "    #ScimEn.drop(ScimEn.index[15:],inplace=True)\n",
    "    e={\"Data Source\":\"Country\",\"Unnamed: 59\":'2015',\"Unnamed: 58\":'2014',\"Unnamed: 57\":'2013',\"Unnamed: 56\":'2012',\"Unnamed: 55\":'2011',\"Unnamed: 54\":'2010',\"Unnamed: 53\":'2009',\"Unnamed: 52\":'2008',\"Unnamed: 51\":'2007',\"Unnamed: 50\":'2006'}\n",
    "    GDP.drop(GDP.columns[1:50],axis=1,inplace=True)\n",
    "    GDP.rename(columns=e,inplace=True)\n",
    "    GDP.set_index(\"Country\",inplace=True)\n",
    "    GDP.rename(index=g,inplace=True)\n",
    "    GDP.reset_index(inplace=True)\n",
    "    inner = pd.merge(pd.merge(ScimEn,energy ,on='Country',how='inner'),GDP,on='Country',how='inner')\n",
    "    outer = pd.merge(pd.merge(ScimEn,energy,on='Country',how='outer'),GDP,on='Country',how='outer')\n",
    "    return (len(outer)-len(inner))"
   ]
  },
  {
   "cell_type": "markdown",
   "metadata": {},
   "source": [
    "## Answer the following questions in the context of only the top 15 countries by Scimagojr Rank (aka the DataFrame returned by `answer_one()`)"
   ]
  },
  {
   "cell_type": "markdown",
   "metadata": {},
   "source": [
    "### Question 3 (6.6%)\n",
    "What is the average GDP over the last 10 years for each country? (exclude missing values from this calculation.)\n",
    "\n",
    "*This function should return a Series named `avgGDP` with 15 countries and their average GDP sorted in descending order.*"
   ]
  },
  {
   "cell_type": "code",
   "execution_count": 114,
   "metadata": {
    "collapsed": true,
    "scrolled": true,
    "umich_part_id": "011",
    "umich_partlist_id": "003"
   },
   "outputs": [],
   "source": [
    "def answer_three():\n",
    "    Top15 = answer_one()\n",
    "    df1= Top15.iloc[:, 10:].copy()\n",
    "    df2=[]\n",
    "    for i in range(0,15):\n",
    "        avg= df1.iloc[i].mean()\n",
    "        df2.append(avg)\n",
    "    df3=pd.DataFrame(df2,index=df1.index)\n",
    "    df3.columns=[\"avgGDP\"]\n",
    "    df4=df3.copy()\n",
    "    df4=df4[\"avgGDP\"].sort_values(ascending=False)\n",
    "    df5=df4.copy()\n",
    "    df6=pd.Series(df5)\n",
    "    return df6"
   ]
  },
  {
   "cell_type": "markdown",
   "metadata": {},
   "source": [
    "### Question 4 (6.6%)\n",
    "By how much had the GDP changed over the 10 year span for the country with the 6th largest average GDP?\n",
    "\n",
    "*This function should return a single number.*"
   ]
  },
  {
   "cell_type": "code",
   "execution_count": 115,
   "metadata": {
    "collapsed": true,
    "scrolled": true,
    "umich_part_id": "012",
    "umich_partlist_id": "003"
   },
   "outputs": [],
   "source": [
    "def answer_four():\n",
    "    Top15=answer_one().copy()\n",
    "    df1= Top15.iloc[:, 10:].copy()\n",
    "    return df1.iloc[3][\"2015\"]-df1.iloc[3][\"2006\"]"
   ]
  },
  {
   "cell_type": "markdown",
   "metadata": {},
   "source": [
    "### Question 5 (6.6%)\n",
    "What is the mean `Energy Supply per Capita`?\n",
    "\n",
    "*This function should return a single number.*"
   ]
  },
  {
   "cell_type": "code",
   "execution_count": 116,
   "metadata": {
    "collapsed": true,
    "umich_part_id": "013",
    "umich_partlist_id": "003"
   },
   "outputs": [],
   "source": [
    "def answer_five():\n",
    "    Top15 = answer_one()\n",
    "    return Top15[\"Energy Supply per Capita\"].mean()"
   ]
  },
  {
   "cell_type": "markdown",
   "metadata": {},
   "source": [
    "### Question 6 (6.6%)\n",
    "What country has the maximum % Renewable and what is the percentage?\n",
    "\n",
    "*This function should return a tuple with the name of the country and the percentage.*"
   ]
  },
  {
   "cell_type": "code",
   "execution_count": 117,
   "metadata": {
    "collapsed": true,
    "umich_part_id": "014",
    "umich_partlist_id": "003"
   },
   "outputs": [],
   "source": [
    "def answer_six():\n",
    "    Top15 = answer_one()\n",
    "    Country=Top15[\"% Renewable\"].argmax()\n",
    "    percentage=Top15.loc[\"Brazil\",\"% Renewable\"]\n",
    "    ans=(Country,percentage)\n",
    "\n",
    "    return ans"
   ]
  },
  {
   "cell_type": "markdown",
   "metadata": {},
   "source": [
    "### Question 7 (6.6%)\n",
    "Create a new column that is the ratio of Self-Citations to Total Citations. \n",
    "What is the maximum value for this new column, and what country has the highest ratio?\n",
    "\n",
    "*This function should return a tuple with the name of the country and the ratio.*"
   ]
  },
  {
   "cell_type": "code",
   "execution_count": 118,
   "metadata": {
    "collapsed": true,
    "umich_part_id": "015",
    "umich_partlist_id": "003"
   },
   "outputs": [],
   "source": [
    "def answer_seven():\n",
    "    Top15 = answer_one()\n",
    "    Top15[\"Ratio\"]=Top15[\"Self-citations\"]/Top15[\"Citations\"]\n",
    "    country=Top15[\"Ratio\"].argmax()\n",
    "    max_ratio=Top15[\"Ratio\"].max()\n",
    "    ans=(country,max_ratio)\n",
    "\n",
    "    return ans"
   ]
  },
  {
   "cell_type": "markdown",
   "metadata": {},
   "source": [
    "### Question 8 (6.6%)\n",
    "\n",
    "Create a column that estimates the population using Energy Supply and Energy Supply per capita. \n",
    "What is the third most populous country according to this estimate?\n",
    "\n",
    "*This function should return a single string value.*"
   ]
  },
  {
   "cell_type": "code",
   "execution_count": 119,
   "metadata": {
    "collapsed": true,
    "umich_part_id": "016",
    "umich_partlist_id": "003"
   },
   "outputs": [],
   "source": [
    "def answer_eight():\n",
    "    Top15 = answer_one()\n",
    "    Top15[\"est_pop\"]=Top15[\"Energy Supply\"]/Top15[\"Energy Supply per Capita\"]\n",
    "    df1=Top15[\"est_pop\"].copy()\n",
    "    df1=df1.sort_values(ascending=False)\n",
    "    df2=df1.copy()\n",
    "\n",
    "    return df2.index[2]"
   ]
  },
  {
   "cell_type": "markdown",
   "metadata": {},
   "source": [
    "### Question 9 (6.6%)\n",
    "Create a column that estimates the number of citable documents per person. \n",
    "What is the correlation between the number of citable documents per capita and the energy supply per capita? Use the `.corr()` method, (Pearson's correlation).\n",
    "\n",
    "*This function should return a single number.*\n",
    "\n",
    "*(Optional: Use the built-in function `plot9()` to visualize the relationship between Energy Supply per Capita vs. Citable docs per Capita)*"
   ]
  },
  {
   "cell_type": "code",
   "execution_count": 120,
   "metadata": {
    "collapsed": true,
    "umich_part_id": "017",
    "umich_partlist_id": "003"
   },
   "outputs": [],
   "source": [
    "def answer_nine():\n",
    "    Top15 = answer_one()\n",
    "    Top15[\"est_pop\"]=Top15[\"Energy Supply\"]/Top15[\"Energy Supply per Capita\"]\n",
    "    Top15[\"Cit_per_capita\"]=Top15[\"Citable documents\"]/Top15[\"est_pop\"]\n",
    "    corr=Top15[\"Cit_per_capita\"].corr(Top15[\"Energy Supply per Capita\"])\n",
    "\n",
    "    return corr"
   ]
  },
  {
   "cell_type": "code",
   "execution_count": 121,
   "metadata": {
    "collapsed": true
   },
   "outputs": [],
   "source": [
    "#def plot9():\n",
    "    #import matplotlib as plt\n",
    "    #%matplotlib inline\n",
    "    \n",
    "    #Top15 = answer_one()\n",
    "    #Top15['PopEst'] = Top15['Energy Supply'] / Top15['Energy Supply per Capita']\n",
    "    #Top15['Citable docs per Capita'] = Top15['Citable documents'] / Top15['PopEst']\n",
    " #   Top15.plot(x='Citable docs per Capita', y='Energy Supply per Capita', kind='scatter', xlim=[0, 0.0006])"
   ]
  },
  {
   "cell_type": "markdown",
   "metadata": {},
   "source": [
    "### Question 10 (6.6%)\n",
    "Create a new column with a 1 if the country's % Renewable value is at or above the median for all countries in the top 15, and a 0 if the country's % Renewable value is below the median.\n",
    "\n",
    "*This function should return a series named `HighRenew` whose index is the country name sorted in ascending order of rank.*"
   ]
  },
  {
   "cell_type": "code",
   "execution_count": 122,
   "metadata": {
    "collapsed": true,
    "umich_part_id": "018",
    "umich_partlist_id": "003"
   },
   "outputs": [],
   "source": [
    "def answer_ten():\n",
    "    Top15 = answer_one().copy()\n",
    "    value=Top15['% Renewable'].median()\n",
    "    Top15[\"HighRenew\"]=Top15['% Renewable']\n",
    "    for i in Top15.index:\n",
    "        if(Top15.loc[i,'% Renewable']>=value ):\n",
    "            Top15.loc[i,'HighRenew']=1\n",
    "        else:\n",
    "            Top15.loc[i,'HighRenew']=0\n",
    "    Top15.sort_values(by=\"Rank\",inplace=True)\n",
    "\n",
    "    return Top15[\"HighRenew\"]"
   ]
  },
  {
   "cell_type": "markdown",
   "metadata": {},
   "source": [
    "### Question 11 (6.6%)\n",
    "Use the following dictionary to group the Countries by Continent, then create a dateframe that displays the sample size (the number of countries in each continent bin), and the sum, mean, and std deviation for the estimated population of each country.\n",
    "\n",
    "```python\n",
    "ContinentDict  = {'China':'Asia', \n",
    "                  'United States':'North America', \n",
    "                  'Japan':'Asia', \n",
    "                  'United Kingdom':'Europe', \n",
    "                  'Russian Federation':'Europe', \n",
    "                  'Canada':'North America', \n",
    "                  'Germany':'Europe', \n",
    "                  'India':'Asia',\n",
    "                  'France':'Europe', \n",
    "                  'South Korea':'Asia', \n",
    "                  'Italy':'Europe', \n",
    "                  'Spain':'Europe', \n",
    "                  'Iran':'Asia',\n",
    "                  'Australia':'Australia', \n",
    "                  'Brazil':'South America'}\n",
    "```\n",
    "\n",
    "*This function should return a DataFrame with index named Continent `['Asia', 'Australia', 'Europe', 'North America', 'South America']` and columns `['size', 'sum', 'mean', 'std']`*"
   ]
  },
  {
   "cell_type": "code",
   "execution_count": 123,
   "metadata": {
    "collapsed": true,
    "umich_part_id": "019",
    "umich_partlist_id": "003"
   },
   "outputs": [],
   "source": [
    "def answer_eleven():\n",
    "    Top15 = answer_one()\n",
    "    Top15[\"est\"]=Top15[\"Energy Supply\"]/Top15[\"Energy Supply per Capita\"]\n",
    "    ContinentDict  = {'China':'Asia', \n",
    "                  'United States':'North America', \n",
    "                  'Japan':'Asia', \n",
    "                  'United Kingdom':'Europe', \n",
    "                  'Russian Federation':'Europe', \n",
    "                  'Canada':'North America', \n",
    "                  'Germany':'Europe', \n",
    "                  'India':'Asia',\n",
    "                  'France':'Europe', \n",
    "                  'South Korea':'Asia', \n",
    "                  'Italy':'Europe', \n",
    "                  'Spain':'Europe', \n",
    "                  'Iran':'Asia',\n",
    "                  'Australia':'Australia', \n",
    "                  'Brazil':'South America'}\n",
    "    ob= Top15[\"est\"].groupby(ContinentDict)\n",
    "    df1=pd.DataFrame()\n",
    "    df1[\"size\"]=ob.count()\n",
    "    df1[\"sum\"]=ob.sum()\n",
    "    df1[\"mean\"]=ob.mean()\n",
    "    df1[\"std\"]=ob.std()\n",
    "\n",
    "    return df1"
   ]
  },
  {
   "cell_type": "markdown",
   "metadata": {},
   "source": [
    "### Question 12 (6.6%)\n",
    "Cut % Renewable into 5 bins. Group Top15 by the Continent, as well as these new % Renewable bins. How many countries are in each of these groups?\n",
    "\n",
    "*This function should return a __Series__ with a MultiIndex of `Continent`, then the bins for `% Renewable`. Do not include groups with no countries.*"
   ]
  },
  {
   "cell_type": "code",
   "execution_count": 124,
   "metadata": {
    "collapsed": true,
    "scrolled": true
   },
   "outputs": [],
   "source": [
    "def answer_twelve():\n",
    "    Top15 = answer_one().copy()\n",
    "    ContinentDict  = {'China':'Asia', \n",
    "                  'United States':'North America', \n",
    "                  'Japan':'Asia', \n",
    "                  'United Kingdom':'Europe', \n",
    "                  'Russian Federation':'Europe', \n",
    "                  'Canada':'North America', \n",
    "                  'Germany':'Europe', \n",
    "                  'India':'Asia',\n",
    "                  'France':'Europe', \n",
    "                  'South Korea':'Asia', \n",
    "                  'Italy':'Europe', \n",
    "                  'Spain':'Europe', \n",
    "                  'Iran':'Asia',\n",
    "                  'Australia':'Australia', \n",
    "                  'Brazil':'South America'}\n",
    "    Top15[\"new_Renewable\"]=pd.cut(Top15[\"% Renewable\"],5)\n",
    "    df1=pd.DataFrame(Top15[\"new_Renewable\"])\n",
    "    df1['Country']=Top15.index\n",
    "    ob= df1.groupby([ContinentDict,\"new_Renewable\"])\n",
    "    df_final=ob.count().dropna()\n",
    "    ser=df_final.T.squeeze()\n",
    "\n",
    "\n",
    "    \n",
    "    return ser"
   ]
  },
  {
   "cell_type": "markdown",
   "metadata": {},
   "source": [
    "### Question 13 (6.6%)\n",
    "Convert the Population Estimate series to a string with thousands separator (using commas). Do not round the results.\n",
    "\n",
    "e.g. 317615384.61538464 -> 317,615,384.61538464\n",
    "\n",
    "*This function should return a Series `PopEst` whose index is the country name and whose values are the population estimate string.*"
   ]
  },
  {
   "cell_type": "code",
   "execution_count": 125,
   "metadata": {
    "collapsed": true,
    "scrolled": true,
    "umich_part_id": "020",
    "umich_partlist_id": "003"
   },
   "outputs": [],
   "source": [
    "def answer_thirteen():\n",
    "    Top15 = answer_one().copy()\n",
    "    Top15[\"est\"]=Top15[\"Energy Supply\"]/Top15[\"Energy Supply per Capita\"]\n",
    "    Top15['PopEst'] = Top15['est'].map('{:,}'.format)\n",
    "    return Top15[\"PopEst\"]\n",
    "\n"
   ]
  },
  {
   "cell_type": "markdown",
   "metadata": {},
   "source": [
    "### Optional\n",
    "\n",
    "Use the built in function `plot_optional()` to see an example visualization."
   ]
  },
  {
   "cell_type": "code",
   "execution_count": 105,
   "metadata": {
    "collapsed": true,
    "scrolled": true
   },
   "outputs": [],
   "source": [
    "#def plot_optional():\n",
    "  #  import matplotlib as plt\n",
    "   # %matplotlib inline\n",
    "    #Top15 = answer_one()\n",
    "  #  ax = Top15.plot(x='Rank', y='% Renewable', kind='scatter', \n",
    "   #                 c=['#e41a1c','#377eb8','#e41a1c','#4daf4a','#4daf4a','#377eb8','#4daf4a','#e41a1c',\n",
    "   #                    '#4daf4a','#e41a1c','#4daf4a','#4daf4a','#e41a1c','#dede00','#ff7f00'], \n",
    "    #                xticks=range(1,16), s=6*Top15['2014']/10**10, alpha=.75, figsize=[16,6]);\n",
    "\n",
    "   # for i, txt in enumerate(Top15.index):\n",
    "    #    ax.annotate(txt, [Top15['Rank'][i], Top15['% Renewable'][i]], ha='center')\n",
    "\n",
    "#   # print(\"This is an example of a visualization that can be created to help understand the data. \\\n",
    "#This is a bubble chart showing % Renewable vs. Rank. The size of the bubble corresponds to the countries'\n",
    "##2#014 GDP, and the color corresponds to the continent.\")\n"
   ]
  },
  {
   "cell_type": "code",
   "execution_count": null,
   "metadata": {
    "collapsed": true
   },
   "outputs": [],
   "source": [
    "#plot_optional() # Be sure to comment out plot_optional() before submitting the assignment!"
   ]
  }
 ],
 "metadata": {
  "anaconda-cloud": {},
  "coursera": {
   "course_slug": "python-data-analysis",
   "graded_item_id": "zAr06",
   "launcher_item_id": "KSSjT",
   "part_id": "SL3fU"
  },
  "kernelspec": {
   "display_name": "Python 3",
   "language": "python",
   "name": "python3"
  },
  "language_info": {
   "codemirror_mode": {
    "name": "ipython",
    "version": 3
   },
   "file_extension": ".py",
   "mimetype": "text/x-python",
   "name": "python",
   "nbconvert_exporter": "python",
   "pygments_lexer": "ipython3",
   "version": "3.6.2"
  },
  "umich": {
   "id": "Assignment 3",
   "version": "1.5"
  }
 },
 "nbformat": 4,
 "nbformat_minor": 1
}
